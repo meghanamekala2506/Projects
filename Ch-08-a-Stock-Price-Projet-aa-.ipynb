{
 "cells": [
  {
   "cell_type": "markdown",
   "metadata": {},
   "source": [
    "# Stock Market Analysis Project"
   ]
  },
  {
   "cell_type": "markdown",
   "metadata": {},
   "source": [
    "\n",
    "  This project is designed to be quite stimulating as it will introduce some new concepts through a few tips!\n",
    "\n",
    "Welcome to your first project! This project is meant to cap off the first half of the course, which mainly focused on learning the libraries we use in this course, the second half of the course will deal much more with financial techniques and quantitative trading platforms.\n",
    "\n",
    "We will be analyzing stock data for a few auto companies from January 1, 2012 to January 1, 2017. This project is mainly done to practice your skills with matplotlib, pandas, and numpy. Do not deduct financial trading tips from the analysis we do here!\n",
    "\n",
    "## Part 0: Import Python Libs \n",
    "\n",
    "Import the different libraries you will need - you can always come back here or import as you go :)\n"
   ]
  },
  {
   "cell_type": "code",
   "execution_count": null,
   "metadata": {},
   "outputs": [],
   "source": [
    "import numpy as np\n",
    "import pandas as pd\n",
    "import matplotlib.pyplot as plt\n",
    "%matplotlib inline\n"
   ]
  },
  {
   "cell_type": "markdown",
   "metadata": {},
   "source": [
    "____\n",
    "## Part 1: Import the data\n",
    "##### Tesla Stock (Ticker: TSLA on NASDAQ)\n",
    "\n",
    "Use pandas_datareader to get historical information on Tesla shares from January 1, 2012 to January 1, 2017.\n"
   ]
  },
  {
   "cell_type": "code",
   "execution_count": null,
   "metadata": {},
   "outputs": [],
   "source": [
    "import pandas_datareader\n",
    "import datetime\n",
    "import pandas_datareader.data as web\n",
    "import yfinance as yfin\n",
    "yfin.pdr_override()\n"
   ]
  },
  {
   "cell_type": "code",
   "execution_count": null,
   "metadata": {},
   "outputs": [],
   "source": [
    "start= '2012-01-01'\n",
    "end='2017-01-01'\n",
    "ticker = \"TSLA\"\n"
   ]
  },
  {
   "cell_type": "code",
   "execution_count": null,
   "metadata": {},
   "outputs": [],
   "source": [
    "tesla = web.get_data_yahoo(ticker, start, end)"
   ]
  },
  {
   "cell_type": "code",
   "execution_count": null,
   "metadata": {},
   "outputs": [],
   "source": [
    "tesla.head()\n"
   ]
  },
  {
   "cell_type": "code",
   "execution_count": null,
   "metadata": {},
   "outputs": [],
   "source": []
  },
  {
   "cell_type": "markdown",
   "metadata": {},
   "source": [
    "### Other automotive companies\n",
    "\n",
    "Repeat the same steps to extract data for Ford and GM (General Motors)\n",
    "\n"
   ]
  },
  {
   "cell_type": "code",
   "execution_count": null,
   "metadata": {},
   "outputs": [],
   "source": [
    "tesla = web.get_data_yahoo(ticker, start, end)"
   ]
  },
  {
   "cell_type": "code",
   "execution_count": null,
   "metadata": {},
   "outputs": [],
   "source": [
    "ford =  web.get_data_yahoo(\"F\", start, end)\n",
    "gm =  web.get_data_yahoo(\"GM\",start,end)"
   ]
  },
  {
   "cell_type": "code",
   "execution_count": null,
   "metadata": {},
   "outputs": [],
   "source": []
  },
  {
   "cell_type": "code",
   "execution_count": null,
   "metadata": {},
   "outputs": [],
   "source": [
    "ford.head()\n"
   ]
  },
  {
   "cell_type": "code",
   "execution_count": null,
   "metadata": {},
   "outputs": [],
   "source": [
    "ford.to_csv('Ford_Stock.csv')\n"
   ]
  },
  {
   "cell_type": "code",
   "execution_count": null,
   "metadata": {},
   "outputs": [],
   "source": [
    "gm.head()\n"
   ]
  },
  {
   "cell_type": "code",
   "execution_count": null,
   "metadata": {},
   "outputs": [],
   "source": [
    "gm.to_csv('GM_Stock.csv')\n"
   ]
  },
  {
   "cell_type": "markdown",
   "metadata": {},
   "source": [
    "##  Part 2: Data visualization\n",
    "\n",
    "It's time to visualize the data.\n",
    "\n",
    "Follow and recreate the graphics below by following the instructions and explanations.\n",
    "\n",
    "\n"
   ]
  },
  {
   "cell_type": "markdown",
   "metadata": {},
   "source": [
    "____\n",
    "\n",
    "**Recreate this linear plot of all the prices at the opening of the different firms!\n",
    "\n",
    "For the legend, use the label parameter and plt.legend ()\n",
    "**"
   ]
  },
  {
   "cell_type": "code",
   "execution_count": null,
   "metadata": {},
   "outputs": [],
   "source": [
    "# Code"
   ]
  },
  {
   "cell_type": "code",
   "execution_count": null,
   "metadata": {},
   "outputs": [],
   "source": [
    "tesla['Open'].plot(label='Tesla',figsize=(16,8),title='Open Price')\n",
    "gm['Open'].plot(label='GM')\n",
    "ford['Open'].plot(label='Ford')\n",
    "plt.legend();\n"
   ]
  },
  {
   "cell_type": "markdown",
   "metadata": {},
   "source": [
    "____"
   ]
  },
  {
   "cell_type": "markdown",
   "metadata": {},
   "source": [
    "**Plot the volume of stocks traded each day.**"
   ]
  },
  {
   "cell_type": "code",
   "execution_count": null,
   "metadata": {},
   "outputs": [],
   "source": [
    "tesla['Volume'].plot(label='Tesla',figsize=(16,8),title='Volume Traded')\n",
    "gm['Volume'].plot(label='gm')\n",
    "ford['Volume'].plot(label='ford')\n",
    "plt.legend()\n"
   ]
  },
  {
   "cell_type": "markdown",
   "metadata": {},
   "source": [
    "** Interestingly,  Ford had a really big spike in late 2013. \n",
    "   ?????   What was the date of that maximum trade volume for Ford? **\n",
    "\n"
   ]
  },
  {
   "cell_type": "code",
   "execution_count": null,
   "metadata": {},
   "outputs": [],
   "source": [
    "ford['Volume'].idxmax()\n"
   ]
  },
  {
   "cell_type": "markdown",
   "metadata": {},
   "source": [
    "____"
   ]
  },
  {
   "cell_type": "markdown",
   "metadata": {},
   "source": [
    "Tesla has always had a lot more value as a company than GM and Ford.\n",
    "\n",
    "  But what we can do as a simple calculation to try to represent the total money traded would be to multiply the 'Volume' column by the share price.\n",
    "\n",
    "\n",
    "it's just a visual representation of the total amount of money exchanged using the time series. (e.g. 100 share units at $ 10 each against 100,000 share units at $ 1 each) **"
   ]
  },
  {
   "cell_type": "markdown",
   "metadata": {},
   "source": [
    "**Create a new column for each dataframe called \"Total Traded\" which is the open price multiplied by the volume traded..**"
   ]
  },
  {
   "cell_type": "code",
   "execution_count": null,
   "metadata": {},
   "outputs": [],
   "source": [
    "# Code "
   ]
  },
  {
   "cell_type": "code",
   "execution_count": null,
   "metadata": {},
   "outputs": [],
   "source": [
    "tesla['Total Traded'] = tesla['Open']*tesla['Volume']\n",
    "ford['Total Traded'] = ford['Open']*ford['Volume']\n",
    "gm['Total Traded'] = gm['Open']*gm['Volume']\n"
   ]
  },
  {
   "cell_type": "markdown",
   "metadata": {},
   "source": [
    "**Plot the Total Traded  ( time index)..**"
   ]
  },
  {
   "cell_type": "code",
   "execution_count": null,
   "metadata": {},
   "outputs": [],
   "source": [
    "# Code "
   ]
  },
  {
   "cell_type": "code",
   "execution_count": null,
   "metadata": {},
   "outputs": [],
   "source": [
    "tesla['Total Traded'].plot(label='Tesla',figsize=(16,8))\n",
    "gm['Total Traded'].plot(label='GM')\n",
    "ford['Total Traded'].plot(label='Ford')\n",
    "plt.legend()\n",
    "plt.ylabel('Total Traded');\n"
   ]
  },
  {
   "cell_type": "markdown",
   "metadata": {},
   "source": [
    "**it appears there was a huge amount of money traded for Tesla in early 2014. What date was it and what happened?\n",
    "?**"
   ]
  },
  {
   "cell_type": "code",
   "execution_count": null,
   "metadata": {},
   "outputs": [],
   "source": [
    "tesla['Total Traded'].idxmax()\n"
   ]
  },
  {
   "cell_type": "markdown",
   "metadata": {},
   "source": [
    "____"
   ]
  },
  {
   "cell_type": "markdown",
   "metadata": {},
   "source": [
    "***Let's practice plotting moving averages (MA - Moving Averages).\n",
    "Plot MA50 and MA200 for GM..***"
   ]
  },
  {
   "cell_type": "code",
   "execution_count": null,
   "metadata": {},
   "outputs": [],
   "source": [
    "# Code "
   ]
  },
  {
   "cell_type": "code",
   "execution_count": null,
   "metadata": {},
   "outputs": [],
   "source": [
    "gm['MA50'] = gm['Open'].rolling(50).mean()\n",
    "gm['MA200'] = gm['Open'].rolling(200).mean()\n",
    "gm[['Open','MA50','MA200']].plot(label='gm',figsize=(16,8))\n"
   ]
  },
  {
   "cell_type": "markdown",
   "metadata": {},
   "source": [
    "______"
   ]
  },
  {
   "cell_type": "markdown",
   "metadata": {},
   "source": [
    "**there is a relationship between these Firms because they are all related to the automotive industry.**\n"
   ]
  },
  {
   "cell_type": "code",
   "execution_count": null,
   "metadata": {},
   "outputs": [],
   "source": [
    "from pandas.plotting import scatter_matrixµ\n"
   ]
  },
  {
   "cell_type": "code",
   "execution_count": null,
   "metadata": {},
   "outputs": [],
   "source": [
    "car_comp = pd.concat([tesla['Open'],gm['Open'],ford['Open']],axis=1)\n"
   ]
  },
  {
   "cell_type": "code",
   "execution_count": null,
   "metadata": {},
   "outputs": [],
   "source": [
    "car_comp.columns = ['Tesla Open','GM Open','Ford Open']\n"
   ]
  },
  {
   "cell_type": "code",
   "execution_count": null,
   "metadata": {},
   "outputs": [],
   "source": [
    "# Vous pouvez utiliser un point-virgule pour supprimer l'impression des axes\n",
    "scatter_matrix(car_comp,figsize=(8,8),alpha=0.2,hist_kwds={'bins':50});\n"
   ]
  },
  {
   "cell_type": "markdown",
   "metadata": {},
   "source": [
    "____\n",
    "# Part 3: Basic financial analysis\n",
    "\n",
    "This will mainly be an exercise in converting an equation or a mathematical concept into code using python and pandas, which we will often do when working with quantitative data!\n",
    "\n",
    "\n",
    "Let's start!\n"
   ]
  },
  {
   "cell_type": "markdown",
   "metadata": {},
   "source": [
    "## Daily percentage return\n",
    "We'll start by calculating the daily percentage return. DPR (in%) is defined by the following formula:\n",
    "\n",
    "\n"
   ]
  },
  {
   "cell_type": "markdown",
   "metadata": {},
   "source": [
    "$ r_t = \\frac{p_t}{p_{t-1}} -1$"
   ]
  },
  {
   "cell_type": "markdown",
   "metadata": {},
   "source": [
    "This defines r_t (DPR at time t) to be equal to the price at time t divided by the price at time t-1 (the day before) minus 1.\n",
    "Basically, it just tells you your percentage of gain (or loss) if you bought the stock on the day and then sold it the next day."
   ]
  },
  {
   "cell_type": "markdown",
   "metadata": {},
   "source": [
    "**Create a new column for each dataframe called 'returns'. This column will be calculated from the 'Close' price column.\n",
    "There are two methods either a simple calculation using the .shift () method which follows the above formula, or you can also use the pct_change method built into pandas..**"
   ]
  },
  {
   "cell_type": "code",
   "execution_count": null,
   "metadata": {},
   "outputs": [],
   "source": []
  },
  {
   "cell_type": "code",
   "execution_count": null,
   "metadata": {},
   "outputs": [],
   "source": [
    "tesla['Close'].head()\n"
   ]
  },
  {
   "cell_type": "code",
   "execution_count": null,
   "metadata": {},
   "outputs": [],
   "source": [
    "tesla['Close'].shift(1).head()\n"
   ]
  },
  {
   "cell_type": "code",
   "execution_count": null,
   "metadata": {},
   "outputs": [],
   "source": []
  },
  {
   "cell_type": "code",
   "execution_count": null,
   "metadata": {},
   "outputs": [],
   "source": [
    "# Méthod 1: with shift\n",
    "tesla['returns'] = (tesla['Close'] / tesla['Close'].shift(1) ) - 1\n"
   ]
  },
  {
   "cell_type": "code",
   "execution_count": null,
   "metadata": {},
   "outputs": [],
   "source": [
    "tesla.head()\n"
   ]
  },
  {
   "cell_type": "code",
   "execution_count": null,
   "metadata": {},
   "outputs": [],
   "source": [
    "# méthod 2:use pct_change\n",
    "tesla['returns'] = tesla['Close'].pct_change(1)\n"
   ]
  },
  {
   "cell_type": "code",
   "execution_count": null,
   "metadata": {},
   "outputs": [],
   "source": [
    "tesla.head()\n"
   ]
  },
  {
   "cell_type": "code",
   "execution_count": null,
   "metadata": {},
   "outputs": [],
   "source": [
    "# # repeat for other dataframes\n",
    "ford['returns'] = ford['Close'].pct_change(1)\n",
    "gm['returns'] = gm['Close'].pct_change(1)\n"
   ]
  },
  {
   "cell_type": "code",
   "execution_count": null,
   "metadata": {},
   "outputs": [],
   "source": [
    "ford.head()\n"
   ]
  },
  {
   "cell_type": "code",
   "execution_count": null,
   "metadata": {},
   "outputs": [],
   "source": [
    "gm.head()\n"
   ]
  },
  {
   "cell_type": "markdown",
   "metadata": {},
   "source": [
    "**Now draw a histogram of the returns for each company.\n",
    "  What is the most volatility stock? (depending on the variance of daily returns)**\n",
    "  "
   ]
  },
  {
   "cell_type": "code",
   "execution_count": null,
   "metadata": {},
   "outputs": [],
   "source": [
    "ford['returns'].hist(bins=50)\n"
   ]
  },
  {
   "cell_type": "code",
   "execution_count": null,
   "metadata": {},
   "outputs": [],
   "source": [
    "gm['returns'].hist(bins=50)\n"
   ]
  },
  {
   "cell_type": "code",
   "execution_count": null,
   "metadata": {},
   "outputs": [],
   "source": [
    "tesla['returns'].hist(bins=50)\n"
   ]
  },
  {
   "cell_type": "code",
   "execution_count": null,
   "metadata": {},
   "outputs": [],
   "source": [
    "tesla['returns'].hist(bins=100,label='Tesla',figsize=(10,8),alpha=0.5)\n",
    "gm['returns'].hist(bins=100,label='GM',alpha=0.5)\n",
    "ford['returns'].hist(bins=100,label='Ford',alpha=0.5)\n",
    "plt.legend();\n"
   ]
  },
  {
   "cell_type": "markdown",
   "metadata": {},
   "source": [
    "**Try to plot a KDE**"
   ]
  },
  {
   "cell_type": "code",
   "execution_count": null,
   "metadata": {},
   "outputs": [],
   "source": [
    "tesla['returns'].plot(kind='kde',label='Tesla',figsize=(12,6))\n",
    "gm['returns'].plot(kind='kde',label='GM')\n",
    "ford['returns'].plot(kind='kde',label='Ford')\n",
    "plt.legend()\n"
   ]
  },
  {
   "cell_type": "markdown",
   "metadata": {},
   "source": [
    "**Try box plots comparing DPR.**"
   ]
  },
  {
   "cell_type": "code",
   "execution_count": null,
   "metadata": {},
   "outputs": [],
   "source": [
    "box_df = pd.concat([tesla['returns'],gm['returns'],ford['returns']],axis=1)\n",
    "box_df.columns = ['Tesla Returns',' GM Returns','Ford Returns']\n",
    "box_df.plot(kind='box',figsize=(8,11),colormap='jet')\n"
   ]
  },
  {
   "cell_type": "markdown",
   "metadata": {},
   "source": [
    "##  Comparison of daily returns between stocks\n",
    "\n",
    "** Create a scatter matrix chart to see the correlation between the daily returns of each security firm.\n",
    "Tesla is a tech company rather than an auto company? **\n"
   ]
  },
  {
   "cell_type": "code",
   "execution_count": null,
   "metadata": {},
   "outputs": [],
   "source": [
    "scatter_matrix(box_df,figsize=(8,8),alpha=0.2,hist_kwds={'bins':50});\n"
   ]
  },
  {
   "cell_type": "markdown",
   "metadata": {},
   "source": [
    "**Ford and GM have a relationship, let's just draw these two a scatterplot to see! **\n"
   ]
  },
  {
   "cell_type": "code",
   "execution_count": null,
   "metadata": {},
   "outputs": [],
   "source": [
    "box_df.plot(kind='scatter',x=' GM Returns',y='Ford Returns',alpha=0.4,figsize=(10,8))\n"
   ]
  },
  {
   "cell_type": "markdown",
   "metadata": {},
   "source": [
    "____\n",
    "## Cumulative daily returns\n",
    "\n",
    "Great ! Now we can see which security had the biggest daily return gap.\n",
    "\n",
    "With daily cumulative returns, the question we're trying to answer is, if I had invested $ 1 in the company at the start of the time series, how much would it be worth today?\n",
    "\n"
   ]
  },
  {
   "cell_type": "markdown",
   "metadata": {},
   "source": [
    "The formula for a cumulative daily return is as follows:\n",
    "\n",
    "$ i_i = (1 + r_t) * i_ {t-1} $\n",
    "\n",
    "Here we can see that we are only multiplying our previous investment at i at t-1 by 1 + our percentage return.\n",
    "\n",
    " Using Pandas, il is very easy to calculate  cumprod () method. \n",
    "\n",
    "\n",
    "    df[daily_cumulative_return] = (1 + df[pct_daily_return]).cumprod()\n",
    "    "
   ]
  },
  {
   "cell_type": "markdown",
   "metadata": {},
   "source": [
    "**Create a cumulative daily return column for each automotive company's dataframe..**"
   ]
  },
  {
   "cell_type": "code",
   "execution_count": null,
   "metadata": {},
   "outputs": [],
   "source": [
    "tesla['Cumulative Return'] = (1 + tesla['returns']).cumprod()\n"
   ]
  },
  {
   "cell_type": "code",
   "execution_count": null,
   "metadata": {},
   "outputs": [],
   "source": [
    "tesla.head()\n"
   ]
  },
  {
   "cell_type": "code",
   "execution_count": null,
   "metadata": {},
   "outputs": [],
   "source": [
    "ford['Cumulative Return'] = (1 + ford['returns']).cumprod()\n",
    "gm['Cumulative Return'] = (1 + gm['returns']).cumprod()\n"
   ]
  },
  {
   "cell_type": "markdown",
   "metadata": {},
   "source": [
    "**Now plot cumulative daily return   columns\n",
    "Which cumulative daily return  for the dollar invested? Which firme ?**"
   ]
  },
  {
   "cell_type": "code",
   "execution_count": null,
   "metadata": {},
   "outputs": [],
   "source": [
    "tesla['Cumulative Return'].plot(label='Tesla',figsize=(16,8),title='Cumulative Return')\n",
    "ford['Cumulative Return'].plot(label='Ford')\n",
    "gm['Cumulative Return'].plot(label='GM')\n",
    "plt.legend()\n"
   ]
  },
  {
   "cell_type": "code",
   "execution_count": null,
   "metadata": {},
   "outputs": [],
   "source": []
  },
  {
   "cell_type": "code",
   "execution_count": null,
   "metadata": {},
   "outputs": [],
   "source": []
  },
  {
   "cell_type": "code",
   "execution_count": null,
   "metadata": {},
   "outputs": [],
   "source": []
  }
 ],
 "metadata": {
  "anaconda-cloud": {},
  "kernelspec": {
   "display_name": "Python 3",
   "language": "python",
   "name": "python3"
  },
  "language_info": {
   "codemirror_mode": {
    "name": "ipython",
    "version": 3
   },
   "file_extension": ".py",
   "mimetype": "text/x-python",
   "name": "python",
   "nbconvert_exporter": "python",
   "pygments_lexer": "ipython3",
   "version": "3.8.5"
  }
 },
 "nbformat": 4,
 "nbformat_minor": 1
}
