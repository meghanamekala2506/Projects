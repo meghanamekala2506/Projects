{
 "cells": [
  {
   "cell_type": "markdown",
   "id": "49bbe46a-a428-4258-95bd-273a3bd94e22",
   "metadata": {},
   "source": [
    "# Mock exam -  World Bank Report Project\n",
    "# Your Name  -   ETU2025xxxx"
   ]
  },
  {
   "cell_type": "code",
   "execution_count": 94,
   "id": "a9950aad-e29d-4dc7-9b24-7722ab940063",
   "metadata": {},
   "outputs": [],
   "source": [
    "#  import requiered libraries \n",
    "import numpy as np\n",
    "import pandas as pd \n",
    "import matplotlib.pyplot as plt"
   ]
  },
  {
   "cell_type": "markdown",
   "id": "436a376b-126e-47ee-b8cd-bfaa763ef2b7",
   "metadata": {},
   "source": [
    "# Question 1: Importing, Data-Frame Information & Cleaning (20 points)"
   ]
  },
  {
   "cell_type": "code",
   "execution_count": null,
   "id": "d881ff46-cae8-4cd5-b83c-b5d6227cf1ca",
   "metadata": {},
   "outputs": [],
   "source": []
  },
  {
   "cell_type": "code",
   "execution_count": 95,
   "id": "3fb19086-0417-46fe-8356-c0b79e6c2273",
   "metadata": {
    "scrolled": true
   },
   "outputs": [
    {
     "data": {
      "text/html": [
       "<div>\n",
       "<style scoped>\n",
       "    .dataframe tbody tr th:only-of-type {\n",
       "        vertical-align: middle;\n",
       "    }\n",
       "\n",
       "    .dataframe tbody tr th {\n",
       "        vertical-align: top;\n",
       "    }\n",
       "\n",
       "    .dataframe thead th {\n",
       "        text-align: right;\n",
       "    }\n",
       "</style>\n",
       "<table border=\"1\" class=\"dataframe\">\n",
       "  <thead>\n",
       "    <tr style=\"text-align: right;\">\n",
       "      <th></th>\n",
       "      <th>ID_Num</th>\n",
       "      <th>Country</th>\n",
       "      <th>Region</th>\n",
       "      <th>IFM_Nigo</th>\n",
       "      <th>Step_Nego</th>\n",
       "      <th>Gov_Spending</th>\n",
       "      <th>Business_Freedom</th>\n",
       "      <th>Monetary_Freedom</th>\n",
       "      <th>Investment_Freedom</th>\n",
       "      <th>Population_Millions</th>\n",
       "      <th>GDP_Billions_PPP</th>\n",
       "      <th>Unemployment_Rate</th>\n",
       "      <th>Inflation_Rate</th>\n",
       "      <th>Public_Debt_rate_GDP</th>\n",
       "    </tr>\n",
       "  </thead>\n",
       "  <tbody>\n",
       "    <tr>\n",
       "      <th>0</th>\n",
       "      <td>1</td>\n",
       "      <td>Afghanistan</td>\n",
       "      <td>Asia-Pacific</td>\n",
       "      <td>0.0</td>\n",
       "      <td>Step4</td>\n",
       "      <td>80.3</td>\n",
       "      <td>49.2</td>\n",
       "      <td>76.7</td>\n",
       "      <td>10.0</td>\n",
       "      <td>35.5</td>\n",
       "      <td>69.6</td>\n",
       "      <td>8.8</td>\n",
       "      <td>5.0</td>\n",
       "      <td>7.3</td>\n",
       "    </tr>\n",
       "    <tr>\n",
       "      <th>1</th>\n",
       "      <td>2</td>\n",
       "      <td>Albania</td>\n",
       "      <td>Europe</td>\n",
       "      <td>1.0</td>\n",
       "      <td>Step1</td>\n",
       "      <td>73.9</td>\n",
       "      <td>69.3</td>\n",
       "      <td>81.5</td>\n",
       "      <td>70.0</td>\n",
       "      <td>2.9</td>\n",
       "      <td>36.0</td>\n",
       "      <td>13.9</td>\n",
       "      <td>2.0</td>\n",
       "      <td>71.2</td>\n",
       "    </tr>\n",
       "    <tr>\n",
       "      <th>2</th>\n",
       "      <td>3</td>\n",
       "      <td>Algeria</td>\n",
       "      <td>Middle East and North Africa</td>\n",
       "      <td>0.0</td>\n",
       "      <td>Step4</td>\n",
       "      <td>48.7</td>\n",
       "      <td>61.6</td>\n",
       "      <td>74.9</td>\n",
       "      <td>30.0</td>\n",
       "      <td>41.5</td>\n",
       "      <td>632.9</td>\n",
       "      <td>10.0</td>\n",
       "      <td>5.6</td>\n",
       "      <td>25.8</td>\n",
       "    </tr>\n",
       "    <tr>\n",
       "      <th>3</th>\n",
       "      <td>4</td>\n",
       "      <td>Angola</td>\n",
       "      <td>Sub-Saharan Africa</td>\n",
       "      <td>0.0</td>\n",
       "      <td>Step4</td>\n",
       "      <td>80.7</td>\n",
       "      <td>55.7</td>\n",
       "      <td>55.4</td>\n",
       "      <td>30.0</td>\n",
       "      <td>28.2</td>\n",
       "      <td>190.3</td>\n",
       "      <td>8.2</td>\n",
       "      <td>31.7</td>\n",
       "      <td>65.3</td>\n",
       "    </tr>\n",
       "    <tr>\n",
       "      <th>4</th>\n",
       "      <td>5</td>\n",
       "      <td>Argentina</td>\n",
       "      <td>Americas</td>\n",
       "      <td>0.0</td>\n",
       "      <td>Step2</td>\n",
       "      <td>49.5</td>\n",
       "      <td>56.4</td>\n",
       "      <td>60.2</td>\n",
       "      <td>55.0</td>\n",
       "      <td>44.1</td>\n",
       "      <td>920.2</td>\n",
       "      <td>8.7</td>\n",
       "      <td>25.7</td>\n",
       "      <td>52.6</td>\n",
       "    </tr>\n",
       "  </tbody>\n",
       "</table>\n",
       "</div>"
      ],
      "text/plain": [
       "   ID_Num      Country                        Region  IFM_Nigo Step_Nego  \\\n",
       "0       1  Afghanistan                  Asia-Pacific       0.0     Step4   \n",
       "1       2      Albania                        Europe       1.0     Step1   \n",
       "2       3      Algeria  Middle East and North Africa       0.0     Step4   \n",
       "3       4       Angola            Sub-Saharan Africa       0.0     Step4   \n",
       "4       5    Argentina                      Americas       0.0     Step2   \n",
       "\n",
       "   Gov_Spending  Business_Freedom  Monetary_Freedom  Investment_Freedom  \\\n",
       "0          80.3              49.2              76.7                10.0   \n",
       "1          73.9              69.3              81.5                70.0   \n",
       "2          48.7              61.6              74.9                30.0   \n",
       "3          80.7              55.7              55.4                30.0   \n",
       "4          49.5              56.4              60.2                55.0   \n",
       "\n",
       "   Population_Millions  GDP_Billions_PPP  Unemployment_Rate  Inflation_Rate  \\\n",
       "0                 35.5              69.6                8.8             5.0   \n",
       "1                  2.9              36.0               13.9             2.0   \n",
       "2                 41.5             632.9               10.0             5.6   \n",
       "3                 28.2             190.3                8.2            31.7   \n",
       "4                 44.1             920.2                8.7            25.7   \n",
       "\n",
       "   Public_Debt_rate_GDP  \n",
       "0                   7.3  \n",
       "1                  71.2  \n",
       "2                  25.8  \n",
       "3                  65.3  \n",
       "4                  52.6  "
      ]
     },
     "execution_count": 95,
     "metadata": {},
     "output_type": "execute_result"
    }
   ],
   "source": [
    "# a) Import World_Bank_Report_2020_.xlsx to Jupyter Notebook (df \n",
    "df=pd.read_excel(\"World_Bank_Report_2020_.xlsx\")\n",
    "df.head()"
   ]
  },
  {
   "cell_type": "code",
   "execution_count": null,
   "id": "fb2d06a8-676b-41b5-922a-4f635c4d2977",
   "metadata": {},
   "outputs": [],
   "source": []
  },
  {
   "cell_type": "code",
   "execution_count": 96,
   "id": "9e5a567b-c563-4e15-bde9-7556355f3779",
   "metadata": {},
   "outputs": [],
   "source": [
    "# b) Write a Python code to display a summary of the basic information"
   ]
  },
  {
   "cell_type": "code",
   "execution_count": 97,
   "id": "cdd0c8bd-5392-46e5-b55f-9029e0287d63",
   "metadata": {
    "scrolled": true
   },
   "outputs": [
    {
     "data": {
      "text/html": [
       "<div>\n",
       "<style scoped>\n",
       "    .dataframe tbody tr th:only-of-type {\n",
       "        vertical-align: middle;\n",
       "    }\n",
       "\n",
       "    .dataframe tbody tr th {\n",
       "        vertical-align: top;\n",
       "    }\n",
       "\n",
       "    .dataframe thead th {\n",
       "        text-align: right;\n",
       "    }\n",
       "</style>\n",
       "<table border=\"1\" class=\"dataframe\">\n",
       "  <thead>\n",
       "    <tr style=\"text-align: right;\">\n",
       "      <th></th>\n",
       "      <th>ID_Num</th>\n",
       "      <th>Country</th>\n",
       "      <th>Region</th>\n",
       "      <th>IFM_Nigo</th>\n",
       "      <th>Step_Nego</th>\n",
       "      <th>Gov_Spending</th>\n",
       "      <th>Business_Freedom</th>\n",
       "      <th>Monetary_Freedom</th>\n",
       "      <th>Investment_Freedom</th>\n",
       "      <th>Population_Millions</th>\n",
       "      <th>GDP_Billions_PPP</th>\n",
       "      <th>Unemployment_Rate</th>\n",
       "      <th>Inflation_Rate</th>\n",
       "      <th>Public_Debt_rate_GDP</th>\n",
       "    </tr>\n",
       "  </thead>\n",
       "  <tbody>\n",
       "    <tr>\n",
       "      <th>0</th>\n",
       "      <td>1</td>\n",
       "      <td>Afghanistan</td>\n",
       "      <td>Asia-Pacific</td>\n",
       "      <td>0.0</td>\n",
       "      <td>Step4</td>\n",
       "      <td>80.3</td>\n",
       "      <td>49.2</td>\n",
       "      <td>76.7</td>\n",
       "      <td>10.0</td>\n",
       "      <td>35.5</td>\n",
       "      <td>69.6</td>\n",
       "      <td>8.8</td>\n",
       "      <td>5.0</td>\n",
       "      <td>7.3</td>\n",
       "    </tr>\n",
       "    <tr>\n",
       "      <th>1</th>\n",
       "      <td>2</td>\n",
       "      <td>Albania</td>\n",
       "      <td>Europe</td>\n",
       "      <td>1.0</td>\n",
       "      <td>Step1</td>\n",
       "      <td>73.9</td>\n",
       "      <td>69.3</td>\n",
       "      <td>81.5</td>\n",
       "      <td>70.0</td>\n",
       "      <td>2.9</td>\n",
       "      <td>36.0</td>\n",
       "      <td>13.9</td>\n",
       "      <td>2.0</td>\n",
       "      <td>71.2</td>\n",
       "    </tr>\n",
       "    <tr>\n",
       "      <th>2</th>\n",
       "      <td>3</td>\n",
       "      <td>Algeria</td>\n",
       "      <td>Middle East and North Africa</td>\n",
       "      <td>0.0</td>\n",
       "      <td>Step4</td>\n",
       "      <td>48.7</td>\n",
       "      <td>61.6</td>\n",
       "      <td>74.9</td>\n",
       "      <td>30.0</td>\n",
       "      <td>41.5</td>\n",
       "      <td>632.9</td>\n",
       "      <td>10.0</td>\n",
       "      <td>5.6</td>\n",
       "      <td>25.8</td>\n",
       "    </tr>\n",
       "    <tr>\n",
       "      <th>3</th>\n",
       "      <td>4</td>\n",
       "      <td>Angola</td>\n",
       "      <td>Sub-Saharan Africa</td>\n",
       "      <td>0.0</td>\n",
       "      <td>Step4</td>\n",
       "      <td>80.7</td>\n",
       "      <td>55.7</td>\n",
       "      <td>55.4</td>\n",
       "      <td>30.0</td>\n",
       "      <td>28.2</td>\n",
       "      <td>190.3</td>\n",
       "      <td>8.2</td>\n",
       "      <td>31.7</td>\n",
       "      <td>65.3</td>\n",
       "    </tr>\n",
       "    <tr>\n",
       "      <th>4</th>\n",
       "      <td>5</td>\n",
       "      <td>Argentina</td>\n",
       "      <td>Americas</td>\n",
       "      <td>0.0</td>\n",
       "      <td>Step2</td>\n",
       "      <td>49.5</td>\n",
       "      <td>56.4</td>\n",
       "      <td>60.2</td>\n",
       "      <td>55.0</td>\n",
       "      <td>44.1</td>\n",
       "      <td>920.2</td>\n",
       "      <td>8.7</td>\n",
       "      <td>25.7</td>\n",
       "      <td>52.6</td>\n",
       "    </tr>\n",
       "  </tbody>\n",
       "</table>\n",
       "</div>"
      ],
      "text/plain": [
       "   ID_Num      Country                        Region  IFM_Nigo Step_Nego  \\\n",
       "0       1  Afghanistan                  Asia-Pacific       0.0     Step4   \n",
       "1       2      Albania                        Europe       1.0     Step1   \n",
       "2       3      Algeria  Middle East and North Africa       0.0     Step4   \n",
       "3       4       Angola            Sub-Saharan Africa       0.0     Step4   \n",
       "4       5    Argentina                      Americas       0.0     Step2   \n",
       "\n",
       "   Gov_Spending  Business_Freedom  Monetary_Freedom  Investment_Freedom  \\\n",
       "0          80.3              49.2              76.7                10.0   \n",
       "1          73.9              69.3              81.5                70.0   \n",
       "2          48.7              61.6              74.9                30.0   \n",
       "3          80.7              55.7              55.4                30.0   \n",
       "4          49.5              56.4              60.2                55.0   \n",
       "\n",
       "   Population_Millions  GDP_Billions_PPP  Unemployment_Rate  Inflation_Rate  \\\n",
       "0                 35.5              69.6                8.8             5.0   \n",
       "1                  2.9              36.0               13.9             2.0   \n",
       "2                 41.5             632.9               10.0             5.6   \n",
       "3                 28.2             190.3                8.2            31.7   \n",
       "4                 44.1             920.2                8.7            25.7   \n",
       "\n",
       "   Public_Debt_rate_GDP  \n",
       "0                   7.3  \n",
       "1                  71.2  \n",
       "2                  25.8  \n",
       "3                  65.3  \n",
       "4                  52.6  "
      ]
     },
     "metadata": {},
     "output_type": "display_data"
    }
   ],
   "source": [
    "# Display the first 5 rows of the DataFrame to get an overview of the data\n",
    "display(df.head())"
   ]
  },
  {
   "cell_type": "code",
   "execution_count": 98,
   "id": "02879285-d9e9-431c-9353-c5c1894eb326",
   "metadata": {},
   "outputs": [
    {
     "name": "stdout",
     "output_type": "stream",
     "text": [
      "Shape of the DataFrame: (174, 14)\n"
     ]
    }
   ],
   "source": [
    "# Display the shape of the DataFrame (number of rows and columns)\n",
    "print(\"Shape of the DataFrame:\", df.shape)\n"
   ]
  },
  {
   "cell_type": "code",
   "execution_count": 99,
   "id": "e93647c8-c7d9-4990-a4f3-2ff7e4e701d8",
   "metadata": {},
   "outputs": [
    {
     "data": {
      "text/plain": [
       "'Columns in the DataFrame:'"
      ]
     },
     "metadata": {},
     "output_type": "display_data"
    },
    {
     "data": {
      "text/plain": [
       "Index(['ID_Num', 'Country', 'Region', 'IFM_Nigo', 'Step_Nego', 'Gov_Spending',\n",
       "       'Business_Freedom', 'Monetary_Freedom', 'Investment_Freedom',\n",
       "       'Population_Millions', 'GDP_Billions_PPP', 'Unemployment_Rate',\n",
       "       'Inflation_Rate', 'Public_Debt_rate_GDP'],\n",
       "      dtype='object')"
      ]
     },
     "metadata": {},
     "output_type": "display_data"
    }
   ],
   "source": [
    "# Display the column names in the DataFrame\n",
    "display(\"Columns in the DataFrame:\", df.columns)\n"
   ]
  },
  {
   "cell_type": "code",
   "execution_count": 100,
   "id": "4029567c-a03e-4f0e-a39e-092958157088",
   "metadata": {},
   "outputs": [
    {
     "data": {
      "text/plain": [
       "ID_Num                    int64\n",
       "Country                  object\n",
       "Region                   object\n",
       "IFM_Nigo                float64\n",
       "Step_Nego                object\n",
       "Gov_Spending            float64\n",
       "Business_Freedom        float64\n",
       "Monetary_Freedom        float64\n",
       "Investment_Freedom      float64\n",
       "Population_Millions     float64\n",
       "GDP_Billions_PPP        float64\n",
       "Unemployment_Rate       float64\n",
       "Inflation_Rate          float64\n",
       "Public_Debt_rate_GDP    float64\n",
       "dtype: object"
      ]
     },
     "metadata": {},
     "output_type": "display_data"
    }
   ],
   "source": [
    "# Display the data types of each column\n",
    "display( df.dtypes)"
   ]
  },
  {
   "cell_type": "code",
   "execution_count": 101,
   "id": "9d3b516d-733d-446a-beb8-cdff62c3a147",
   "metadata": {},
   "outputs": [
    {
     "name": "stdout",
     "output_type": "stream",
     "text": [
      "DataFrame Information:\n",
      "<class 'pandas.core.frame.DataFrame'>\n",
      "RangeIndex: 174 entries, 0 to 173\n",
      "Data columns (total 14 columns):\n",
      " #   Column                Non-Null Count  Dtype  \n",
      "---  ------                --------------  -----  \n",
      " 0   ID_Num                174 non-null    int64  \n",
      " 1   Country               174 non-null    object \n",
      " 2   Region                174 non-null    object \n",
      " 3   IFM_Nigo              173 non-null    float64\n",
      " 4   Step_Nego             171 non-null    object \n",
      " 5   Gov_Spending          172 non-null    float64\n",
      " 6   Business_Freedom      173 non-null    float64\n",
      " 7   Monetary_Freedom      173 non-null    float64\n",
      " 8   Investment_Freedom    171 non-null    float64\n",
      " 9   Population_Millions   174 non-null    float64\n",
      " 10  GDP_Billions_PPP      174 non-null    float64\n",
      " 11  Unemployment_Rate     170 non-null    float64\n",
      " 12  Inflation_Rate        173 non-null    float64\n",
      " 13  Public_Debt_rate_GDP  173 non-null    float64\n",
      "dtypes: float64(10), int64(1), object(3)\n",
      "memory usage: 19.2+ KB\n"
     ]
    },
    {
     "data": {
      "text/plain": [
       "None"
      ]
     },
     "metadata": {},
     "output_type": "display_data"
    }
   ],
   "source": [
    "# Display a concise summary of the DataFrame including non-null counts and data types\n",
    "print(\"DataFrame Information:\")\n",
    "display(df.info())"
   ]
  },
  {
   "cell_type": "markdown",
   "id": "4b3d4fb6-3d14-4923-82b8-f8c6d1076297",
   "metadata": {},
   "source": [
    "#  c )    Cleaning Process "
   ]
  },
  {
   "cell_type": "code",
   "execution_count": 109,
   "id": "d36ee732-65ab-434d-a9d9-e971cbf77c75",
   "metadata": {},
   "outputs": [
    {
     "data": {
      "text/plain": [
       "ID_Num                  0\n",
       "Country                 0\n",
       "Region                  0\n",
       "IFM_Nigo                0\n",
       "Step_Nego               0\n",
       "Gov_Spending            0\n",
       "Business_Freedom        0\n",
       "Monetary_Freedom        0\n",
       "Investment_Freedom      0\n",
       "Population_Millions     0\n",
       "GDP_Billions_PPP        0\n",
       "Unemployment_Rate       0\n",
       "Inflation_Rate          0\n",
       "Public_Debt_rate_GDP    0\n",
       "dtype: int64"
      ]
     },
     "execution_count": 109,
     "metadata": {},
     "output_type": "execute_result"
    }
   ],
   "source": [
    "# list of missing values by column\n",
    "df.isna().sum()"
   ]
  },
  {
   "cell_type": "code",
   "execution_count": 110,
   "id": "5070359d-3d74-416a-b0bf-67d41582ed27",
   "metadata": {},
   "outputs": [],
   "source": [
    "# c) Clean data-frame (df) – The missing data process should comply with the following conditions"
   ]
  },
  {
   "cell_type": "raw",
   "id": "535a3137-fec1-4110-9f32-8007eab08313",
   "metadata": {},
   "source": [
    "Before starting the data cleaning process, be careful with the column \"Step_Nego\".\n",
    "\n",
    "Although \"Step_Nego\" is an object (categorical) column, it will be used later as a **grouping key**\n",
    "to calculate the mean for missing values in numerical (quantitative) columns. \n",
    "\n",
    "Therefore, first you should clean or modify \"Step_Nego\" at the beginning. \n",
    "\n",
    "Once categorical variables are cleaned, you can proceed to clean the quantitative (numeric) columns by\n",
    "replacing missing values with the mean, grouped by \"Step_Nego\".\n"
   ]
  },
  {
   "cell_type": "code",
   "execution_count": 111,
   "id": "aed41332-ca4e-4860-86c9-0c82dfa3f799",
   "metadata": {},
   "outputs": [],
   "source": [
    "# Categorical variables: Replace by the Mode: Calculates the column mode and uses\n",
    "# the mode value as the replacement value for each missing value in the column.\n",
    "categorical_columns = df.select_dtypes(include='object').columns\n",
    "for col in categorical_columns:\n",
    "    df[col]=df[col].fillna(df[col].mode()[0])  # Replace NaN with column mode"
   ]
  },
  {
   "cell_type": "code",
   "execution_count": null,
   "id": "f79960ef-207f-4bd3-bd75-9240c7b02882",
   "metadata": {},
   "outputs": [],
   "source": []
  },
  {
   "cell_type": "code",
   "execution_count": null,
   "id": "ca7045e6-6aa8-4ce3-8e12-4ece864374bc",
   "metadata": {},
   "outputs": [],
   "source": []
  },
  {
   "cell_type": "code",
   "execution_count": 112,
   "id": "85cee70a-7bb0-433b-ab1c-0891ab71f899",
   "metadata": {},
   "outputs": [],
   "source": [
    "# Quantitative variables: Replace the missing data by the Mean by “Step_Nego” \n",
    "#  Identify numerical columns (quantitative variables)\n",
    "numerical_columns = df.select_dtypes(include=['int64', 'float64']).columns\n",
    "\n",
    "# Replace the missing data by the Mean by “Step_Nego” \n",
    "for col in numerical_columns:\n",
    "    df[col] = df[col].fillna(df.groupby('Step_Nego')[col].transform('mean'))\n"
   ]
  },
  {
   "cell_type": "code",
   "execution_count": 113,
   "id": "70a55d6c-70bb-4d6d-a532-fcc2f1c6057c",
   "metadata": {},
   "outputs": [
    {
     "data": {
      "text/plain": [
       "ID_Num                  0\n",
       "Country                 0\n",
       "Region                  0\n",
       "IFM_Nigo                0\n",
       "Step_Nego               0\n",
       "Gov_Spending            0\n",
       "Business_Freedom        0\n",
       "Monetary_Freedom        0\n",
       "Investment_Freedom      0\n",
       "Population_Millions     0\n",
       "GDP_Billions_PPP        0\n",
       "Unemployment_Rate       0\n",
       "Inflation_Rate          0\n",
       "Public_Debt_rate_GDP    0\n",
       "dtype: int64"
      ]
     },
     "execution_count": 113,
     "metadata": {},
     "output_type": "execute_result"
    }
   ],
   "source": [
    "# list of missing values by column\n",
    "df.isna().sum()\n"
   ]
  },
  {
   "cell_type": "markdown",
   "id": "2c48845f-13c1-4bf2-9334-b0986e4f563a",
   "metadata": {},
   "source": [
    "# Question 2: Data Manipulation & Visualization (50 points)"
   ]
  },
  {
   "cell_type": "code",
   "execution_count": 115,
   "id": "ebe0b22c-f2b0-4d2a-aeac-66d612f65dde",
   "metadata": {},
   "outputs": [],
   "source": [
    "# 1. Data Manipulation: (25 points"
   ]
  },
  {
   "cell_type": "code",
   "execution_count": 114,
   "id": "7e9a4dd6-f344-4708-80db-ddfea8dd97bc",
   "metadata": {},
   "outputs": [
    {
     "name": "stdout",
     "output_type": "stream",
     "text": [
      "Country with Maximum Government Spending:\n"
     ]
    },
    {
     "data": {
      "text/plain": [
       "'Sudan'"
      ]
     },
     "metadata": {},
     "output_type": "display_data"
    }
   ],
   "source": [
    "#  a)  Find the row with the maximum value in \"Gov_Spending\"\n",
    "max_gov_spending_country = df.loc[df['Gov_Spending'].idxmax(), 'Country']\n",
    "print(\"Country with Maximum Government Spending:\")\n",
    "display(max_gov_spending_country)"
   ]
  },
  {
   "cell_type": "code",
   "execution_count": 108,
   "id": "8e4acf95-650f-4bca-aa44-299e1c31d64f",
   "metadata": {},
   "outputs": [],
   "source": [
    "#b) Display the Minimum of ( \" Unemployment_Rate & Inflation_Rate\" )\n",
    "# by ( ‘Region’ &‘Step_Nego’ )……"
   ]
  },
  {
   "cell_type": "code",
   "execution_count": 80,
   "id": "3a9134d9-5753-43b0-936b-0241693dff4c",
   "metadata": {},
   "outputs": [
    {
     "data": {
      "text/html": [
       "<div>\n",
       "<style scoped>\n",
       "    .dataframe tbody tr th:only-of-type {\n",
       "        vertical-align: middle;\n",
       "    }\n",
       "\n",
       "    .dataframe tbody tr th {\n",
       "        vertical-align: top;\n",
       "    }\n",
       "\n",
       "    .dataframe thead th {\n",
       "        text-align: right;\n",
       "    }\n",
       "</style>\n",
       "<table border=\"1\" class=\"dataframe\">\n",
       "  <thead>\n",
       "    <tr style=\"text-align: right;\">\n",
       "      <th></th>\n",
       "      <th>Region</th>\n",
       "      <th>Step_Nego</th>\n",
       "      <th>Inflation_Rate</th>\n",
       "      <th>Unemployment_Rate</th>\n",
       "    </tr>\n",
       "  </thead>\n",
       "  <tbody>\n",
       "    <tr>\n",
       "      <th>0</th>\n",
       "      <td>Americas</td>\n",
       "      <td>Step1</td>\n",
       "      <td>3.230000</td>\n",
       "      <td>5.950000</td>\n",
       "    </tr>\n",
       "    <tr>\n",
       "      <th>1</th>\n",
       "      <td>Americas</td>\n",
       "      <td>Step2</td>\n",
       "      <td>161.042857</td>\n",
       "      <td>8.742857</td>\n",
       "    </tr>\n",
       "    <tr>\n",
       "      <th>2</th>\n",
       "      <td>Americas</td>\n",
       "      <td>Step3</td>\n",
       "      <td>7.062500</td>\n",
       "      <td>8.162500</td>\n",
       "    </tr>\n",
       "    <tr>\n",
       "      <th>3</th>\n",
       "      <td>Americas</td>\n",
       "      <td>Step4</td>\n",
       "      <td>1.850000</td>\n",
       "      <td>9.300000</td>\n",
       "    </tr>\n",
       "    <tr>\n",
       "      <th>4</th>\n",
       "      <td>Asia-Pacific</td>\n",
       "      <td>Step1</td>\n",
       "      <td>5.100000</td>\n",
       "      <td>5.796825</td>\n",
       "    </tr>\n",
       "    <tr>\n",
       "      <th>5</th>\n",
       "      <td>Asia-Pacific</td>\n",
       "      <td>Step2</td>\n",
       "      <td>4.200000</td>\n",
       "      <td>3.507937</td>\n",
       "    </tr>\n",
       "    <tr>\n",
       "      <th>6</th>\n",
       "      <td>Asia-Pacific</td>\n",
       "      <td>Step3</td>\n",
       "      <td>2.700000</td>\n",
       "      <td>3.325000</td>\n",
       "    </tr>\n",
       "    <tr>\n",
       "      <th>7</th>\n",
       "      <td>Asia-Pacific</td>\n",
       "      <td>Step4</td>\n",
       "      <td>2.800000</td>\n",
       "      <td>4.410000</td>\n",
       "    </tr>\n",
       "    <tr>\n",
       "      <th>8</th>\n",
       "      <td>Europe</td>\n",
       "      <td>Step1</td>\n",
       "      <td>2.863514</td>\n",
       "      <td>11.370000</td>\n",
       "    </tr>\n",
       "    <tr>\n",
       "      <th>9</th>\n",
       "      <td>Europe</td>\n",
       "      <td>Step2</td>\n",
       "      <td>2.690909</td>\n",
       "      <td>8.610823</td>\n",
       "    </tr>\n",
       "    <tr>\n",
       "      <th>10</th>\n",
       "      <td>Europe</td>\n",
       "      <td>Step3</td>\n",
       "      <td>2.276923</td>\n",
       "      <td>7.407692</td>\n",
       "    </tr>\n",
       "    <tr>\n",
       "      <th>11</th>\n",
       "      <td>Europe</td>\n",
       "      <td>Step4</td>\n",
       "      <td>1.822222</td>\n",
       "      <td>7.933333</td>\n",
       "    </tr>\n",
       "    <tr>\n",
       "      <th>12</th>\n",
       "      <td>Middle East and North Africa</td>\n",
       "      <td>Step1</td>\n",
       "      <td>0.725000</td>\n",
       "      <td>4.825000</td>\n",
       "    </tr>\n",
       "    <tr>\n",
       "      <th>13</th>\n",
       "      <td>Middle East and North Africa</td>\n",
       "      <td>Step2</td>\n",
       "      <td>2.300000</td>\n",
       "      <td>4.825000</td>\n",
       "    </tr>\n",
       "    <tr>\n",
       "      <th>14</th>\n",
       "      <td>Middle East and North Africa</td>\n",
       "      <td>Step3</td>\n",
       "      <td>9.525000</td>\n",
       "      <td>8.875000</td>\n",
       "    </tr>\n",
       "    <tr>\n",
       "      <th>15</th>\n",
       "      <td>Middle East and North Africa</td>\n",
       "      <td>Step4</td>\n",
       "      <td>4.450000</td>\n",
       "      <td>12.450000</td>\n",
       "    </tr>\n",
       "    <tr>\n",
       "      <th>16</th>\n",
       "      <td>Sub-Saharan Africa</td>\n",
       "      <td>Step1</td>\n",
       "      <td>3.885714</td>\n",
       "      <td>12.182540</td>\n",
       "    </tr>\n",
       "    <tr>\n",
       "      <th>17</th>\n",
       "      <td>Sub-Saharan Africa</td>\n",
       "      <td>Step2</td>\n",
       "      <td>4.271429</td>\n",
       "      <td>7.171429</td>\n",
       "    </tr>\n",
       "    <tr>\n",
       "      <th>18</th>\n",
       "      <td>Sub-Saharan Africa</td>\n",
       "      <td>Step3</td>\n",
       "      <td>11.120000</td>\n",
       "      <td>9.546667</td>\n",
       "    </tr>\n",
       "    <tr>\n",
       "      <th>19</th>\n",
       "      <td>Sub-Saharan Africa</td>\n",
       "      <td>Step4</td>\n",
       "      <td>6.794118</td>\n",
       "      <td>6.717647</td>\n",
       "    </tr>\n",
       "  </tbody>\n",
       "</table>\n",
       "</div>"
      ],
      "text/plain": [
       "                          Region Step_Nego  Inflation_Rate  Unemployment_Rate\n",
       "0                       Americas     Step1        3.230000           5.950000\n",
       "1                       Americas     Step2      161.042857           8.742857\n",
       "2                       Americas     Step3        7.062500           8.162500\n",
       "3                       Americas     Step4        1.850000           9.300000\n",
       "4                   Asia-Pacific     Step1        5.100000           5.796825\n",
       "5                   Asia-Pacific     Step2        4.200000           3.507937\n",
       "6                   Asia-Pacific     Step3        2.700000           3.325000\n",
       "7                   Asia-Pacific     Step4        2.800000           4.410000\n",
       "8                         Europe     Step1        2.863514          11.370000\n",
       "9                         Europe     Step2        2.690909           8.610823\n",
       "10                        Europe     Step3        2.276923           7.407692\n",
       "11                        Europe     Step4        1.822222           7.933333\n",
       "12  Middle East and North Africa     Step1        0.725000           4.825000\n",
       "13  Middle East and North Africa     Step2        2.300000           4.825000\n",
       "14  Middle East and North Africa     Step3        9.525000           8.875000\n",
       "15  Middle East and North Africa     Step4        4.450000          12.450000\n",
       "16            Sub-Saharan Africa     Step1        3.885714          12.182540\n",
       "17            Sub-Saharan Africa     Step2        4.271429           7.171429\n",
       "18            Sub-Saharan Africa     Step3       11.120000           9.546667\n",
       "19            Sub-Saharan Africa     Step4        6.794118           6.717647"
      ]
     },
     "execution_count": 80,
     "metadata": {},
     "output_type": "execute_result"
    }
   ],
   "source": [
    " #Create a pivot table that calculates the minimum of Unemployment_Rate and Inflation_Rate\n",
    "# Rows are Region and Step_Nego, values are the two rate columns\n",
    "tab1 = pd.pivot_table(df, \n",
    "                     values= ['Unemployment_Rate','Inflation_Rate'], \n",
    "                     index= (\"Region\" , \"Step_Nego\")).reset_index()\n",
    "tab1"
   ]
  },
  {
   "cell_type": "code",
   "execution_count": null,
   "id": "ed3f29bf-da00-412c-b13f-66fa3dca051f",
   "metadata": {},
   "outputs": [],
   "source": [
    "# c) Print the columns (Country, Business_Freedom ,Monetary_Freedom ,Investment_Freedom) of\n",
    "the list of Europe Countries with the population of over 10 (million)…"
   ]
  },
  {
   "cell_type": "code",
   "execution_count": 76,
   "id": "4a17830e-dd0c-47eb-8751-2fa8ba25c4e0",
   "metadata": {},
   "outputs": [
    {
     "name": "stdout",
     "output_type": "stream",
     "text": [
      "Europe countries with population > 10 million (selected columns):\n"
     ]
    },
    {
     "data": {
      "text/html": [
       "<div>\n",
       "<style scoped>\n",
       "    .dataframe tbody tr th:only-of-type {\n",
       "        vertical-align: middle;\n",
       "    }\n",
       "\n",
       "    .dataframe tbody tr th {\n",
       "        vertical-align: top;\n",
       "    }\n",
       "\n",
       "    .dataframe thead th {\n",
       "        text-align: right;\n",
       "    }\n",
       "</style>\n",
       "<table border=\"1\" class=\"dataframe\">\n",
       "  <thead>\n",
       "    <tr style=\"text-align: right;\">\n",
       "      <th></th>\n",
       "      <th>Country</th>\n",
       "      <th>Business_Freedom</th>\n",
       "      <th>Monetary_Freedom</th>\n",
       "      <th>Investment_Freedom</th>\n",
       "    </tr>\n",
       "  </thead>\n",
       "  <tbody>\n",
       "    <tr>\n",
       "      <th>14</th>\n",
       "      <td>Belgium</td>\n",
       "      <td>78.1</td>\n",
       "      <td>76.1</td>\n",
       "      <td>85.0</td>\n",
       "    </tr>\n",
       "    <tr>\n",
       "      <th>44</th>\n",
       "      <td>Czech Republic</td>\n",
       "      <td>72.4</td>\n",
       "      <td>81.5</td>\n",
       "      <td>80.0</td>\n",
       "    </tr>\n",
       "    <tr>\n",
       "      <th>58</th>\n",
       "      <td>France</td>\n",
       "      <td>81.2</td>\n",
       "      <td>79.1</td>\n",
       "      <td>75.0</td>\n",
       "    </tr>\n",
       "    <tr>\n",
       "      <th>62</th>\n",
       "      <td>Germany</td>\n",
       "      <td>83.3</td>\n",
       "      <td>77.9</td>\n",
       "      <td>80.0</td>\n",
       "    </tr>\n",
       "    <tr>\n",
       "      <th>64</th>\n",
       "      <td>Greece</td>\n",
       "      <td>74.1</td>\n",
       "      <td>79.1</td>\n",
       "      <td>55.0</td>\n",
       "    </tr>\n",
       "    <tr>\n",
       "      <th>79</th>\n",
       "      <td>Italy</td>\n",
       "      <td>71.7</td>\n",
       "      <td>84.0</td>\n",
       "      <td>85.0</td>\n",
       "    </tr>\n",
       "    <tr>\n",
       "      <th>113</th>\n",
       "      <td>Netherlands</td>\n",
       "      <td>81.4</td>\n",
       "      <td>84.0</td>\n",
       "      <td>90.0</td>\n",
       "    </tr>\n",
       "    <tr>\n",
       "      <th>126</th>\n",
       "      <td>Poland</td>\n",
       "      <td>65.4</td>\n",
       "      <td>82.1</td>\n",
       "      <td>80.0</td>\n",
       "    </tr>\n",
       "    <tr>\n",
       "      <th>127</th>\n",
       "      <td>Portugal</td>\n",
       "      <td>79.7</td>\n",
       "      <td>83.0</td>\n",
       "      <td>70.0</td>\n",
       "    </tr>\n",
       "    <tr>\n",
       "      <th>129</th>\n",
       "      <td>Romania</td>\n",
       "      <td>63.1</td>\n",
       "      <td>82.7</td>\n",
       "      <td>70.0</td>\n",
       "    </tr>\n",
       "    <tr>\n",
       "      <th>130</th>\n",
       "      <td>Russia</td>\n",
       "      <td>78.4</td>\n",
       "      <td>65.1</td>\n",
       "      <td>30.0</td>\n",
       "    </tr>\n",
       "    <tr>\n",
       "      <th>145</th>\n",
       "      <td>Spain</td>\n",
       "      <td>66.8</td>\n",
       "      <td>87.5</td>\n",
       "      <td>85.0</td>\n",
       "    </tr>\n",
       "    <tr>\n",
       "      <th>149</th>\n",
       "      <td>Sweden</td>\n",
       "      <td>88.0</td>\n",
       "      <td>82.0</td>\n",
       "      <td>85.0</td>\n",
       "    </tr>\n",
       "    <tr>\n",
       "      <th>160</th>\n",
       "      <td>Turkey</td>\n",
       "      <td>66.0</td>\n",
       "      <td>70.0</td>\n",
       "      <td>70.0</td>\n",
       "    </tr>\n",
       "    <tr>\n",
       "      <th>163</th>\n",
       "      <td>Ukraine</td>\n",
       "      <td>66.1</td>\n",
       "      <td>58.6</td>\n",
       "      <td>35.0</td>\n",
       "    </tr>\n",
       "    <tr>\n",
       "      <th>165</th>\n",
       "      <td>United Kingdom</td>\n",
       "      <td>92.9</td>\n",
       "      <td>81.2</td>\n",
       "      <td>90.0</td>\n",
       "    </tr>\n",
       "  </tbody>\n",
       "</table>\n",
       "</div>"
      ],
      "text/plain": [
       "            Country  Business_Freedom  Monetary_Freedom  Investment_Freedom\n",
       "14          Belgium              78.1              76.1                85.0\n",
       "44   Czech Republic              72.4              81.5                80.0\n",
       "58           France              81.2              79.1                75.0\n",
       "62          Germany              83.3              77.9                80.0\n",
       "64           Greece              74.1              79.1                55.0\n",
       "79            Italy              71.7              84.0                85.0\n",
       "113     Netherlands              81.4              84.0                90.0\n",
       "126          Poland              65.4              82.1                80.0\n",
       "127        Portugal              79.7              83.0                70.0\n",
       "129         Romania              63.1              82.7                70.0\n",
       "130          Russia              78.4              65.1                30.0\n",
       "145           Spain              66.8              87.5                85.0\n",
       "149          Sweden              88.0              82.0                85.0\n",
       "160          Turkey              66.0              70.0                70.0\n",
       "163         Ukraine              66.1              58.6                35.0\n",
       "165  United Kingdom              92.9              81.2                90.0"
      ]
     },
     "metadata": {},
     "output_type": "display_data"
    }
   ],
   "source": [
    "# Filter European countries with population > 10 million\n",
    "europe_pop10 = df[(df['Region'] == 'Europe') & (df['Population_Millions'] > 10)]\n",
    "\n",
    "# Select specific columns\n",
    "selected_columns = europe_pop10[['Country', 'Business_Freedom', 'Monetary_Freedom', 'Investment_Freedom']]\n",
    "print(\"Europe countries with population > 10 million (selected columns):\")\n",
    "display(selected_columns)\n"
   ]
  },
  {
   "cell_type": "code",
   "execution_count": null,
   "id": "1401d330-917d-4c6b-8803-5951a0f4f637",
   "metadata": {},
   "outputs": [],
   "source": [
    "# d) Use a loop to print the max Gov_Spending country by Region"
   ]
  },
  {
   "cell_type": "code",
   "execution_count": 77,
   "id": "69976421-58d7-4aec-b4d8-41f9cc0b7b8e",
   "metadata": {},
   "outputs": [
    {
     "name": "stdout",
     "output_type": "stream",
     "text": [
      "Asia-Pacific\n",
      "--------------\n",
      "The max Gov Spand in  Asia-Pacific is  96.6\n",
      "******************************************************************\n",
      "Europe\n",
      "--------------\n",
      "The max Gov Spand in  Europe is  96.6\n",
      "******************************************************************\n",
      "Middle East and North Africa\n",
      "--------------\n",
      "The max Gov Spand in  Middle East and North Africa is  96.6\n",
      "******************************************************************\n",
      "Sub-Saharan Africa\n",
      "--------------\n",
      "The max Gov Spand in  Sub-Saharan Africa is  96.6\n",
      "******************************************************************\n",
      "Americas\n",
      "--------------\n",
      "The max Gov Spand in  Americas is  96.6\n",
      "******************************************************************\n"
     ]
    }
   ],
   "source": [
    "# # Loop through each unique region\n",
    "regions = df[\"Region\"].unique()\n",
    "for reg in regions :\n",
    "    print(reg)\n",
    "    print(\"--------------\")\n",
    "    max_gov_spand =df[df['Gov_Spending']==df['Gov_Spending'].max()]\n",
    "    print(\"The max Gov Spand in \" , reg , \"is \", df['Gov_Spending'].max() )\n",
    "    print(\"******************************************************************\")"
   ]
  },
  {
   "cell_type": "code",
   "execution_count": null,
   "id": "a507d530-bc2c-44a0-909e-1370e60ada16",
   "metadata": {},
   "outputs": [],
   "source": []
  },
  {
   "cell_type": "code",
   "execution_count": null,
   "id": "b4d3b0d2-ba04-44cf-81aa-6d2987f26cd4",
   "metadata": {},
   "outputs": [],
   "source": [
    "# e) List of Europe countries with two conditions on GDP indexes"
   ]
  },
  {
   "cell_type": "code",
   "execution_count": 78,
   "id": "71a4b68c-5372-43eb-a275-02cfee9cc3f1",
   "metadata": {},
   "outputs": [
    {
     "name": "stdout",
     "output_type": "stream",
     "text": [
      "\n",
      "Europe countries with Population GDP Index >= 0.90 and Public Debt GDP Index >= 9.00:\n"
     ]
    },
    {
     "data": {
      "text/plain": [
       "Series([], Name: Country, dtype: object)"
      ]
     },
     "metadata": {},
     "output_type": "display_data"
    }
   ],
   "source": [
    "# Compute the two required indexes\n",
    "df['Population_GDP_Index'] = df['Population_Millions'] / df['GDP_Billions_PPP']\n",
    "df['Public_Debt_GDP_Index'] = df['Public_Debt_rate_GDP'] / df['GDP_Billions_PPP']\n",
    "\n",
    "# Filter based on both conditions and Region = Europe\n",
    "europe_criteria = df[\n",
    "    (df['Region'] == 'Europe') &\n",
    "    (df['Population_GDP_Index'] >= 0.90) &\n",
    "    (df['Public_Debt_GDP_Index'] >= 9.00)     ]\n",
    "\n",
    "# Print the country names\n",
    "print(\"\\nEurope countries with Population GDP Index >= 0.90 and Public Debt GDP Index >= 9.00:\")\n",
    "display(europe_criteria['Country'])"
   ]
  },
  {
   "cell_type": "code",
   "execution_count": null,
   "id": "c8c6ccd5-d8f6-4a13-825d-548dcbdba4af",
   "metadata": {},
   "outputs": [],
   "source": []
  },
  {
   "cell_type": "code",
   "execution_count": null,
   "id": "d462cf09-2a91-45c4-8f8f-442b29692049",
   "metadata": {},
   "outputs": [],
   "source": [
    "#  2. Data Visualization (25 points)\n",
    "#  the Data Visualization, we are using Pandas and Matplotlib to visualize (df)Data. Draw\n",
    "#   the graphs with (“Title”, “Label-Name”, “Legend” , Color, …. Etc ….)"
   ]
  },
  {
   "cell_type": "code",
   "execution_count": 82,
   "id": "0e4b8f16-9879-4bb1-bcbc-b9b0073e9415",
   "metadata": {},
   "outputs": [
    {
     "data": {
      "image/png": "[encoded data removed]",
      "text/plain": [
       "<Figure size 640x480 with 1 Axes>"
      ]
     },
     "metadata": {},
     "output_type": "display_data"
    }
   ],
   "source": [
    "# a) The graph (Barh-Chart) of the maximum of ( Unemployment_Rate and Inflation_Rate ) by‘region’\n",
    "# Pivot table: max values by Region\n",
    "pivot_max_rates = df.pivot_table(index='Region', \n",
    "                                  values=['Unemployment_Rate', 'Inflation_Rate'], \n",
    "                                  aggfunc='max').reset_index()\n",
    "\n",
    "# Plot barh chart\n",
    "pivot_max_rates.plot(kind='barh', color=['m', 'g'])\n",
    "\n",
    "plt.title(\"Maximum Unemployment & Inflation Rate by Region\")\n",
    "plt.xlabel(\"Rate (%)\")\n",
    "plt.ylabel(\"Region\")\n",
    "plt.legend(title=\"Indicators\")\n",
    "plt.show()"
   ]
  },
  {
   "cell_type": "code",
   "execution_count": 84,
   "id": "a3c935a6-55a8-4440-8fb5-1b888bf8bb5f",
   "metadata": {},
   "outputs": [
    {
     "data": {
      "image/png": "[encoded data removed]",
      "text/plain": [
       "<Figure size 640x480 with 1 Axes>"
      ]
     },
     "metadata": {},
     "output_type": "display_data"
    }
   ],
   "source": [
    "# b) Pie Chart – Minimum Gov_Spending by Step_Nego\n",
    "# Pivot table: min Gov_Spending by Step_Nego\n",
    "pivot_min_gov = df.pivot_table(index='Step_Nego',\n",
    "                               values='Gov_Spending',\n",
    "                               aggfunc='min').reset_index()\n",
    "\n",
    "# Plot pie chart\n",
    "pivot_min_gov.plot(kind='pie', y='Gov_Spending', \n",
    "                   autopct='%1.1f%%')\n",
    "\n",
    "plt.title(\"Minimum Government Spending by Step_Nego\")\n",
    "plt.ylabel(\"\")  # Hide default y-label\n",
    "plt.show()\n"
   ]
  },
  {
   "cell_type": "code",
   "execution_count": null,
   "id": "dd6fb95d-aa52-4219-b8c8-03ed843ceb50",
   "metadata": {},
   "outputs": [],
   "source": []
  },
  {
   "cell_type": "code",
   "execution_count": 88,
   "id": "c447a683-275a-4151-ad9f-1a7a7e48fb93",
   "metadata": {},
   "outputs": [
    {
     "data": {
      "image/png": "[encoded data removed]",
      "text/plain": [
       "<Figure size 640x480 with 1 Axes>"
      ]
     },
     "metadata": {},
     "output_type": "display_data"
    }
   ],
   "source": [
    "# c) Histogram – Business_Freedom grouped into 5 ranges\n",
    "\n",
    "# Plot histogram with custom bins\n",
    "bins = [0, 20, 40, 60, 80, 100]\n",
    "\n",
    "plt.hist(df['Business_Freedom'], bins=bins, \n",
    "         color='m', edgecolor='black')\n",
    "\n",
    "plt.title(\"Distribution of Business Freedom\")\n",
    "plt.xlabel(\"Business Freedom Score\")\n",
    "plt.ylabel(\"Number of Countries\")\n",
    "plt.xticks(bins)\n",
    "plt.show()\n"
   ]
  },
  {
   "cell_type": "code",
   "execution_count": null,
   "id": "81d70844-4513-44c8-b9e4-5470cfffa48b",
   "metadata": {},
   "outputs": [],
   "source": []
  },
  {
   "cell_type": "code",
   "execution_count": 89,
   "id": "b37611c0-2bae-453d-bb57-a25b088b4cf7",
   "metadata": {},
   "outputs": [
    {
     "data": {
      "image/png": "[encoded data removed]",
      "text/plain": [
       "<Figure size 640x480 with 1 Axes>"
      ]
     },
     "metadata": {},
     "output_type": "display_data"
    }
   ],
   "source": [
    "# d) Curve Chart (Line plot) – Min of Public_Debt_rate_GDP and Gov_Spending by Step_Nego\n",
    "\n",
    "# Pivot table: min values by Step_Nego\n",
    "pivot_min_curve = df.pivot_table(index='Step_Nego', \n",
    "                                  values=['Public_Debt_rate_GDP', 'Gov_Spending'], \n",
    "                                  aggfunc='min').reset_index()\n",
    "\n",
    "# Plot line graph\n",
    "pivot_min_curve.plot(kind='line', marker='o')\n",
    "\n",
    "plt.title(\"Min of Public Debt rate & Gov Spending by Step_Nego\")\n",
    "plt.xlabel(\"Step_Nego\")\n",
    "plt.ylabel(\"Value\")\n",
    "plt.legend(title=\"Indicators\")\n",
    "plt.show()\n"
   ]
  },
  {
   "cell_type": "markdown",
   "id": "211efa17-1e80-42a6-bc26-b7e255d8b841",
   "metadata": {},
   "source": [
    "# Question 3 – Coding Challenge (30 points)"
   ]
  },
  {
   "cell_type": "code",
   "execution_count": 93,
   "id": "bd67b3ce-f75b-4ae1-a25b-0dcdafe5044f",
   "metadata": {},
   "outputs": [
    {
     "data": {
      "text/html": [
       "<div>\n",
       "<style scoped>\n",
       "    .dataframe tbody tr th:only-of-type {\n",
       "        vertical-align: middle;\n",
       "    }\n",
       "\n",
       "    .dataframe tbody tr th {\n",
       "        vertical-align: top;\n",
       "    }\n",
       "\n",
       "    .dataframe thead th {\n",
       "        text-align: right;\n",
       "    }\n",
       "</style>\n",
       "<table border=\"1\" class=\"dataframe\">\n",
       "  <thead>\n",
       "    <tr style=\"text-align: right;\">\n",
       "      <th></th>\n",
       "      <th>Region</th>\n",
       "      <th>Country</th>\n",
       "    </tr>\n",
       "  </thead>\n",
       "  <tbody>\n",
       "    <tr>\n",
       "      <th>19</th>\n",
       "      <td>Europe</td>\n",
       "      <td>Bosnia and Herzegovina</td>\n",
       "    </tr>\n",
       "    <tr>\n",
       "      <th>21</th>\n",
       "      <td>Americas</td>\n",
       "      <td>Brazil</td>\n",
       "    </tr>\n",
       "    <tr>\n",
       "      <th>25</th>\n",
       "      <td>Asia-Pacific</td>\n",
       "      <td>Burma</td>\n",
       "    </tr>\n",
       "    <tr>\n",
       "      <th>38</th>\n",
       "      <td>Sub-Saharan Africa</td>\n",
       "      <td>Congo, Republic of</td>\n",
       "    </tr>\n",
       "    <tr>\n",
       "      <th>41</th>\n",
       "      <td>Europe</td>\n",
       "      <td>Croatia</td>\n",
       "    </tr>\n",
       "    <tr>\n",
       "      <th>42</th>\n",
       "      <td>Americas</td>\n",
       "      <td>Cuba</td>\n",
       "    </tr>\n",
       "    <tr>\n",
       "      <th>48</th>\n",
       "      <td>Americas</td>\n",
       "      <td>Ecuador</td>\n",
       "    </tr>\n",
       "    <tr>\n",
       "      <th>59</th>\n",
       "      <td>Sub-Saharan Africa</td>\n",
       "      <td>Gabon</td>\n",
       "    </tr>\n",
       "    <tr>\n",
       "      <th>65</th>\n",
       "      <td>Americas</td>\n",
       "      <td>Guatemala</td>\n",
       "    </tr>\n",
       "    <tr>\n",
       "      <th>88</th>\n",
       "      <td>Asia-Pacific</td>\n",
       "      <td>Laos</td>\n",
       "    </tr>\n",
       "    <tr>\n",
       "      <th>129</th>\n",
       "      <td>Europe</td>\n",
       "      <td>Romania</td>\n",
       "    </tr>\n",
       "    <tr>\n",
       "      <th>145</th>\n",
       "      <td>Europe</td>\n",
       "      <td>Spain</td>\n",
       "    </tr>\n",
       "  </tbody>\n",
       "</table>\n",
       "</div>"
      ],
      "text/plain": [
       "                 Region                 Country\n",
       "19               Europe  Bosnia and Herzegovina\n",
       "21             Americas                  Brazil\n",
       "25         Asia-Pacific                   Burma\n",
       "38   Sub-Saharan Africa      Congo, Republic of\n",
       "41               Europe                 Croatia\n",
       "42             Americas                    Cuba\n",
       "48             Americas                 Ecuador\n",
       "59   Sub-Saharan Africa                   Gabon\n",
       "65             Americas               Guatemala\n",
       "88         Asia-Pacific                    Laos\n",
       "129              Europe                 Romania\n",
       "145              Europe                   Spain"
      ]
     },
     "metadata": {},
     "output_type": "display_data"
    }
   ],
   "source": [
    "# Question 3 – Coding Challenge (30 points) with detailed explanations, calculations, \n",
    "#  and filtering based on the 4 given conditions.\n",
    "# Find the list of countries by Region that qualify for Financial Assistance, based on 4 conditions.\n",
    "\n",
    "# Step 1: Create the 3 new index columns\n",
    "df['Freed_Index'] = df['Monetary_Freedom'] / df['Business_Freedom']\n",
    "df['Population_GDP_Index'] = df['Population_Millions'] / df['GDP_Billions_PPP']\n",
    "df['Public_Debt_GDP_Index'] = df['Public_Debt_rate_GDP'] / df['GDP_Billions_PPP']\n",
    "\n",
    "# Step 2: Compute the averages needed for filtering\n",
    "avg_freed_index = df['Freed_Index'].mean()\n",
    "avg_population_index = df['Population_GDP_Index'].mean()\n",
    "\n",
    "# Step 3: Apply all four filtering conditions\n",
    "filtered_df = df[\n",
    "    (df['Freed_Index'] > avg_freed_index) &\n",
    "    (df['Step_Nego'].isin(['Step1', 'Step2'])) &\n",
    "    (df['Population_GDP_Index'] < avg_population_index) &\n",
    "    (df['Public_Debt_GDP_Index'] < 20)     \n",
    "                 ]\n",
    "\n",
    "# Step 4: Select and display the country and region names\n",
    "qualified_countries = filtered_df[['Region', 'Country']]\n",
    "\n",
    "# Step 5: Print the results\n",
    "\n",
    "display(qualified_countries)"
   ]
  },
  {
   "cell_type": "code",
   "execution_count": null,
   "id": "c07e597c-5ded-4482-875f-1b42b4d942e8",
   "metadata": {},
   "outputs": [],
   "source": []
  },
  {
   "cell_type": "code",
   "execution_count": null,
   "id": "de14379b-4dc2-4cb6-8c0b-01a3722a40dc",
   "metadata": {},
   "outputs": [],
   "source": []
  },
  {
   "cell_type": "code",
   "execution_count": null,
   "id": "265f4a6e-8afa-43e0-9ef6-cdcc47cbe228",
   "metadata": {},
   "outputs": [],
   "source": []
  },
  {
   "cell_type": "code",
   "execution_count": null,
   "id": "65dc9ab2-966f-45f3-a080-bc36311796e5",
   "metadata": {},
   "outputs": [],
   "source": []
  },
  {
   "cell_type": "code",
   "execution_count": null,
   "id": "d17f7387-ed25-4da8-b2a6-3499819b588e",
   "metadata": {},
   "outputs": [],
   "source": []
  },
  {
   "cell_type": "code",
   "execution_count": null,
   "id": "a1774998-2fa9-470f-a57d-ce4588ffa1bf",
   "metadata": {},
   "outputs": [],
   "source": []
  },
  {
   "cell_type": "code",
   "execution_count": null,
   "id": "e4bd09f5-061e-4790-8cf8-51614abf8b5a",
   "metadata": {},
   "outputs": [],
   "source": []
  },
  {
   "cell_type": "code",
   "execution_count": null,
   "id": "62da2264-a41e-474e-b8a6-f0ea25c6fc9b",
   "metadata": {},
   "outputs": [],
   "source": []
  },
  {
   "cell_type": "code",
   "execution_count": null,
   "id": "8855238a-6795-4e27-b69e-4ba7a617f4ec",
   "metadata": {},
   "outputs": [],
   "source": []
  },
  {
   "cell_type": "code",
   "execution_count": null,
   "id": "2de7b941-5205-4fe2-895e-ac0e50623f48",
   "metadata": {},
   "outputs": [],
   "source": []
  },
  {
   "cell_type": "code",
   "execution_count": null,
   "id": "0d2197c3-8c97-4c46-b175-9c28867ff900",
   "metadata": {},
   "outputs": [],
   "source": []
  },
  {
   "cell_type": "code",
   "execution_count": null,
   "id": "e10bcdaf-ab62-4784-ba44-f7a80a09278c",
   "metadata": {},
   "outputs": [],
   "source": []
  },
  {
   "cell_type": "code",
   "execution_count": null,
   "id": "07200758-42d6-45ac-b8e1-57b5df65128c",
   "metadata": {},
   "outputs": [],
   "source": []
  },
  {
   "cell_type": "code",
   "execution_count": null,
   "id": "c3666a0e-459a-4de0-a22b-5614870b3def",
   "metadata": {},
   "outputs": [],
   "source": []
  },
  {
   "cell_type": "code",
   "execution_count": null,
   "id": "b4769a26-d5d7-41c7-a6e6-c19caeb4d4d8",
   "metadata": {},
   "outputs": [],
   "source": []
  },
  {
   "cell_type": "code",
   "execution_count": null,
   "id": "a6680aa2-6dea-40e7-b951-3af9b7408f6b",
   "metadata": {},
   "outputs": [],
   "source": []
  }
 ],
 "metadata": {
  "kernelspec": {
   "display_name": "Python 3 (ipykernel)",
   "language": "python",
   "name": "python3"
  },
  "language_info": {
   "codemirror_mode": {
    "name": "ipython",
    "version": 3
   },
   "file_extension": ".py",
   "mimetype": "text/x-python",
   "name": "python",
   "nbconvert_exporter": "python",
   "pygments_lexer": "ipython3",
   "version": "3.11.5"
  }
 },
 "nbformat": 4,
 "nbformat_minor": 5
}
